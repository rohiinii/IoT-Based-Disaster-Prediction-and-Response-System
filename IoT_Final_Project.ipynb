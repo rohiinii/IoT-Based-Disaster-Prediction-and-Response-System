{
  "nbformat": 4,
  "nbformat_minor": 0,
  "metadata": {
    "colab": {
      "provenance": []
    },
    "kernelspec": {
      "name": "python3",
      "display_name": "Python 3"
    },
    "language_info": {
      "name": "python"
    }
  },
  "cells": [
    {
      "cell_type": "markdown",
      "source": [
        "# **IoT-Based Disaster Prediction and Response System**"
      ],
      "metadata": {
        "id": "X76SJRCCNUHl"
      }
    },
    {
      "cell_type": "markdown",
      "source": [
        "# Heatwave prediction Model"
      ],
      "metadata": {
        "id": "DaoqivIwNchf"
      }
    },
    {
      "cell_type": "code",
      "source": [
        "!pip install xgboost"
      ],
      "metadata": {
        "colab": {
          "base_uri": "https://localhost:8080/"
        },
        "id": "AZamXj1dkGyY",
        "outputId": "1f0a4c8f-2863-48fe-903d-966385dc4fa1"
      },
      "execution_count": 1,
      "outputs": [
        {
          "output_type": "stream",
          "name": "stdout",
          "text": [
            "Requirement already satisfied: xgboost in /usr/local/lib/python3.11/dist-packages (2.1.4)\n",
            "Requirement already satisfied: numpy in /usr/local/lib/python3.11/dist-packages (from xgboost) (2.0.2)\n",
            "Requirement already satisfied: nvidia-nccl-cu12 in /usr/local/lib/python3.11/dist-packages (from xgboost) (2.21.5)\n",
            "Requirement already satisfied: scipy in /usr/local/lib/python3.11/dist-packages (from xgboost) (1.14.1)\n"
          ]
        }
      ]
    },
    {
      "cell_type": "code",
      "source": [
        "import pandas as pd\n",
        "import xgboost as xgb\n",
        "from sklearn.model_selection import train_test_split\n",
        "from sklearn.metrics import classification_report, confusion_matrix\n",
        "import joblib"
      ],
      "metadata": {
        "id": "0jJMHJjsNqSe"
      },
      "execution_count": 2,
      "outputs": []
    },
    {
      "cell_type": "code",
      "source": [
        "# Load and filter dataset\n",
        "df = pd.read_csv(\"surface temperature anomalies by year.csv\")\n",
        "df = df[df['Unnamed: 0'] == 'United States']\n",
        "\n",
        "# Extract only year columns\n",
        "year_columns = [col for col in df.columns if col.isnumeric()]\n",
        "df_us = df[year_columns]\n",
        "\n",
        "# Transpose to get one row per year\n",
        "df_transposed = df_us.transpose().reset_index()\n",
        "df_transposed.columns = ['Year', 'Temp_Anomaly']\n",
        "\n",
        "# Clean and convert\n",
        "df_transposed['Year'] = pd.to_numeric(df_transposed['Year'], errors='coerce')\n",
        "df_transposed['Temp_Anomaly'] = pd.to_numeric(df_transposed['Temp_Anomaly'], errors='coerce')\n",
        "df_transposed.dropna(inplace=True)\n",
        "\n",
        "# Label heatwave years (top 10% temp anomalies)\n",
        "threshold = df_transposed['Temp_Anomaly'].quantile(0.90)\n",
        "df_transposed['Heatwave'] = (df_transposed['Temp_Anomaly'] >= threshold).astype(int)\n",
        "\n",
        "# Prepare data\n",
        "X = df_transposed[['Year', 'Temp_Anomaly']]\n",
        "y = df_transposed['Heatwave']\n",
        "X_train, X_test, y_train, y_test = train_test_split(X, y, test_size=0.2, random_state=42)\n",
        "\n",
        "# Train XGBoost model\n",
        "model = xgb.XGBClassifier(use_label_encoder=False, eval_metric='logloss', random_state=42)\n",
        "model.fit(X_train, y_train)\n",
        "\n",
        "# Save model\n",
        "joblib.dump(model, \"heatwave_xgb_model_us_only.pkl\")"
      ],
      "metadata": {
        "colab": {
          "base_uri": "https://localhost:8080/"
        },
        "id": "Bz35H8VuNv4Z",
        "outputId": "843955d7-3013-4858-f0f9-1fee6143cff9"
      },
      "execution_count": 38,
      "outputs": [
        {
          "output_type": "stream",
          "name": "stderr",
          "text": [
            "/usr/local/lib/python3.11/dist-packages/xgboost/core.py:158: UserWarning: [02:03:04] WARNING: /workspace/src/learner.cc:740: \n",
            "Parameters: { \"use_label_encoder\" } are not used.\n",
            "\n",
            "  warnings.warn(smsg, UserWarning)\n"
          ]
        },
        {
          "output_type": "execute_result",
          "data": {
            "text/plain": [
              "['heatwave_xgb_model_us_only.pkl']"
            ]
          },
          "metadata": {},
          "execution_count": 38
        }
      ]
    },
    {
      "cell_type": "code",
      "source": [
        "# Evaluate\n",
        "y_pred = model.predict(X_test)\n",
        "print(\"Classification Report:\")\n",
        "print(classification_report(y_test, y_pred))\n",
        "\n",
        "print(\"Confusion Matrix:\")\n",
        "print(confusion_matrix(y_test, y_pred))"
      ],
      "metadata": {
        "colab": {
          "base_uri": "https://localhost:8080/"
        },
        "id": "Eui1m0gmP83H",
        "outputId": "3bc9822b-b2a6-4418-efb8-e546ab8d71d1"
      },
      "execution_count": 39,
      "outputs": [
        {
          "output_type": "stream",
          "name": "stdout",
          "text": [
            "Classification Report:\n",
            "              precision    recall  f1-score   support\n",
            "\n",
            "           0       1.00      1.00      1.00        10\n",
            "           1       1.00      1.00      1.00         1\n",
            "\n",
            "    accuracy                           1.00        11\n",
            "   macro avg       1.00      1.00      1.00        11\n",
            "weighted avg       1.00      1.00      1.00        11\n",
            "\n",
            "Confusion Matrix:\n",
            "[[10  0]\n",
            " [ 0  1]]\n"
          ]
        }
      ]
    },
    {
      "cell_type": "markdown",
      "source": [
        "# Wildfire Prediction Model"
      ],
      "metadata": {
        "id": "dFXudqClpBPm"
      }
    },
    {
      "cell_type": "code",
      "source": [
        "import pandas as pd\n",
        "import xgboost as xgb\n",
        "from sklearn.model_selection import train_test_split\n",
        "from sklearn.metrics import classification_report, confusion_matrix\n",
        "import joblib\n",
        "\n",
        "# Load dataset\n",
        "df = pd.read_csv(\"CA_Weather_Fire_Dataset_1984-2025.csv\")\n",
        "\n",
        "# Keep only 3 relevant features and target\n",
        "df = df[['MAX_TEMP', 'AVG_WIND_SPEED', 'WIND_TEMP_RATIO', 'FIRE_START_DAY']].dropna()\n",
        "\n",
        "# Rename to match IoT input convention\n",
        "df = df.rename(columns={\n",
        "    'MAX_TEMP': 'temp',\n",
        "    'AVG_WIND_SPEED': 'wind_speed',\n",
        "    'WIND_TEMP_RATIO': 'air_quality'\n",
        "})\n",
        "\n",
        "# Define features and target\n",
        "X = df[['temp', 'wind_speed', 'air_quality']]\n",
        "y = df['FIRE_START_DAY'].astype(int)\n",
        "\n",
        "# Train-test split\n",
        "X_train, X_test, y_train, y_test = train_test_split(X, y, test_size=0.2, random_state=42)\n",
        "\n",
        "# Train XGBoost model\n",
        "model = xgb.XGBClassifier(use_label_encoder=False, eval_metric='logloss', random_state=42)\n",
        "model.fit(X_train, y_train)\n",
        "\n",
        "# Save model\n",
        "joblib.dump(model, \"wildfire_xgb_model.pkl\")\n"
      ],
      "metadata": {
        "colab": {
          "base_uri": "https://localhost:8080/"
        },
        "id": "ZMCC3OGckvN1",
        "outputId": "f85a73b7-fc25-4688-fff3-40c72c5a5401"
      },
      "execution_count": 40,
      "outputs": [
        {
          "output_type": "stream",
          "name": "stderr",
          "text": [
            "/usr/local/lib/python3.11/dist-packages/xgboost/core.py:158: UserWarning: [02:05:35] WARNING: /workspace/src/learner.cc:740: \n",
            "Parameters: { \"use_label_encoder\" } are not used.\n",
            "\n",
            "  warnings.warn(smsg, UserWarning)\n"
          ]
        },
        {
          "output_type": "execute_result",
          "data": {
            "text/plain": [
              "['wildfire_xgb_model.pkl']"
            ]
          },
          "metadata": {},
          "execution_count": 40
        }
      ]
    },
    {
      "cell_type": "code",
      "source": [
        "# Evaluate model\n",
        "y_pred = model.predict(X_test)\n",
        "print(\"Classification Report:\\n\", classification_report(y_test, y_pred))\n",
        "print(\"Confusion Matrix:\\n\", confusion_matrix(y_test, y_pred))"
      ],
      "metadata": {
        "colab": {
          "base_uri": "https://localhost:8080/"
        },
        "id": "mJdhfnRrU2cb",
        "outputId": "e6f3fe3b-6b97-4bb6-ae73-94a1e7d32c87"
      },
      "execution_count": 41,
      "outputs": [
        {
          "output_type": "stream",
          "name": "stdout",
          "text": [
            "Classification Report:\n",
            "               precision    recall  f1-score   support\n",
            "\n",
            "           0       0.75      0.82      0.78      1989\n",
            "           1       0.56      0.46      0.51      1007\n",
            "\n",
            "    accuracy                           0.70      2996\n",
            "   macro avg       0.66      0.64      0.65      2996\n",
            "weighted avg       0.69      0.70      0.69      2996\n",
            "\n",
            "Confusion Matrix:\n",
            " [[1627  362]\n",
            " [ 539  468]]\n"
          ]
        }
      ]
    },
    {
      "cell_type": "markdown",
      "source": [
        "# Final Prediction with iot simulated dataset"
      ],
      "metadata": {
        "id": "iQHPKl4mWSLy"
      }
    },
    {
      "cell_type": "code",
      "source": [
        "import pandas as pd\n",
        "import joblib\n",
        "\n",
        "# Load your IoT data\n",
        "df = pd.read_csv(\"feed (1).csv\")\n",
        "\n",
        "# Rename columns to match model input\n",
        "df = df[['field1', 'field3', 'field4']].dropna()\n",
        "df.columns = ['temp', 'wind_speed', 'air_quality']\n",
        "\n",
        "# Add year for heatwave prediction\n",
        "df['Year'] = 2025  # Simulated year of observation\n",
        "df['Temp_Anomaly'] = df['temp']  # Match heatwave model's expected feature\n",
        "\n",
        "# Load trained ML models\n",
        "wildfire_model = joblib.load(\"wildfire_xgb_model.pkl\")\n",
        "heatwave_model = joblib.load(\"heatwave_xgb_model_us_only.pkl\")\n",
        "\n",
        "# Run wildfire prediction\n",
        "df['Wildfire_Predicted'] = wildfire_model.predict(\n",
        "    df[['temp', 'wind_speed', 'air_quality']]\n",
        ")\n",
        "\n",
        "# Run heatwave prediction\n",
        "df['Heatwave_Predicted'] = heatwave_model.predict(\n",
        "    df[['Year', 'Temp_Anomaly']]\n",
        ")"
      ],
      "metadata": {
        "id": "4dPtNjfmWc3I"
      },
      "execution_count": 45,
      "outputs": []
    },
    {
      "cell_type": "code",
      "source": [
        "# Display predictions\n",
        "print(df[['temp', 'wind_speed', 'air_quality', 'Wildfire_Predicted', 'Heatwave_Predicted']].head())"
      ],
      "metadata": {
        "colab": {
          "base_uri": "https://localhost:8080/"
        },
        "id": "dKx3155nXFCW",
        "outputId": "b1363d47-6b6e-4905-f923-91f38732d116"
      },
      "execution_count": 46,
      "outputs": [
        {
          "output_type": "stream",
          "name": "stdout",
          "text": [
            "   temp  wind_speed  air_quality  Wildfire_Predicted  Heatwave_Predicted\n",
            "0  42.6          23         3104                   0                   1\n",
            "1  42.6          99         3628                   0                   1\n",
            "2  42.6          64         3628                   0                   1\n",
            "3  12.9          64         2603                   0                   1\n",
            "4  52.2           2         2603                   0                   1\n"
          ]
        }
      ]
    },
    {
      "cell_type": "code",
      "source": [
        "# Save predictions to CSV\n",
        "df.to_csv(\"iot_wildfire_heatwave_predictions.csv\", index=False)\n",
        "print(\"\\nPredictions saved to 'iot_wildfire_heatwave_predictions.csv'\")"
      ],
      "metadata": {
        "colab": {
          "base_uri": "https://localhost:8080/"
        },
        "id": "3Yvi58M5XIBH",
        "outputId": "f3fd1283-17dd-4bf5-8e21-c92c83847d2c"
      },
      "execution_count": 48,
      "outputs": [
        {
          "output_type": "stream",
          "name": "stdout",
          "text": [
            "\n",
            "Predictions saved to 'iot_wildfire_heatwave_predictions.csv'\n"
          ]
        }
      ]
    },
    {
      "cell_type": "markdown",
      "source": [
        "# E-Mail Alert"
      ],
      "metadata": {
        "id": "DCNK_ayeXQzM"
      }
    },
    {
      "cell_type": "code",
      "source": [
        "# Alert Summary\n",
        "wildfire_count = df['Wildfire_Predicted'].sum()\n",
        "heatwave_count = df['Heatwave_Predicted'].sum()\n",
        "\n",
        "alert_lines = []\n",
        "\n",
        "if wildfire_count > 0:\n",
        "    alert_lines.append(f\"🔥 potential wildfire detected.\")\n",
        "if heatwave_count > 0:\n",
        "    alert_lines.append(f\"🌡️ potential heatwave detected.\")\n",
        "\n",
        "# Send Email Alert\n",
        "def send_email_alert(subject, body):\n",
        "    msg = EmailMessage()\n",
        "    msg.set_content(body)\n",
        "    msg['Subject'] = subject\n",
        "    msg['From'] = \"iotmailcis600@gmail.com\"\n",
        "    msg['To'] = \"rohiniskumar17@gmail.com\"\n",
        "\n",
        "    server = smtplib.SMTP_SSL('smtp.gmail.com', 465)\n",
        "    server.login(\"iotmailcis600@gmail.com\", \"imgn ktuz udai gpvn\")\n",
        "    server.send_message(msg)\n",
        "    server.quit()\n",
        "    print(\"Email alert sent!\")\n",
        "\n",
        "# Trigger Alert if Needed\n",
        "if alert_lines:\n",
        "    body = \"\\n\".join(alert_lines)\n",
        "    send_email_alert(\"🚨 IoT Disaster Alert!\", body)\n",
        "else:\n",
        "    print(\"No alerts detected — no email sent.\")\n",
        "\n",
        "# Save predictions to CSV\n",
        "df.to_csv(\"iot_predictions_with_alerts.csv\", index=False)\n",
        "print(\"Predictions saved to 'iot_predictions_with_alerts.csv'\")\n"
      ],
      "metadata": {
        "colab": {
          "base_uri": "https://localhost:8080/"
        },
        "id": "bpBAodhQXTty",
        "outputId": "b12e68af-25dd-4ee1-a726-176be6ca4259"
      },
      "execution_count": 53,
      "outputs": [
        {
          "output_type": "stream",
          "name": "stdout",
          "text": [
            "Email alert sent!\n",
            "Predictions saved to 'iot_predictions_with_alerts.csv'\n"
          ]
        }
      ]
    }
  ]
}